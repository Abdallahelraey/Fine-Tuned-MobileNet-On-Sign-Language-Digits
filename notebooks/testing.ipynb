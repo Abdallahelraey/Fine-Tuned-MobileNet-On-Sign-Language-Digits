{
 "cells": [
  {
   "cell_type": "code",
   "execution_count": 1,
   "metadata": {},
   "outputs": [
    {
     "data": {
      "text/plain": [
       "False"
      ]
     },
     "execution_count": 1,
     "metadata": {},
     "output_type": "execute_result"
    }
   ],
   "source": [
    "from src.data.make_dataset import DatasetOrganizer\n",
    "\n",
    "Organizer = DatasetOrganizer()\n",
    "Organizer.organize_dataset()"
   ]
  },
  {
   "cell_type": "code",
   "execution_count": 2,
   "metadata": {},
   "outputs": [
    {
     "name": "stdout",
     "output_type": "stream",
     "text": [
      "Found 1712 images belonging to 10 classes.\n",
      "Found 300 images belonging to 10 classes.\n",
      "Found 50 images belonging to 10 classes.\n"
     ]
    }
   ],
   "source": [
    "from src.data.preprocess import DataProcessor\n",
    "\n",
    "\n",
    "processor = DataProcessor()\n",
    "train_data, validation_data, test_data = processor.load_dataset()\n",
    "# (train_images, train_labels), (validation_images, validation_labels), (test_images, test_labels) = processor.process_and_load_data()"
   ]
  },
  {
   "cell_type": "code",
   "execution_count": null,
   "metadata": {},
   "outputs": [],
   "source": [
    "from src.models.model import SignLanguageModel\n",
    "\n",
    "model = SignLanguageModel()\n",
    "model.build_model()\n",
    "model.compile_model()\n",
    "history = model.train(train_data, validation_data)"
   ]
  },
  {
   "cell_type": "code",
   "execution_count": 3,
   "metadata": {},
   "outputs": [],
   "source": [
    "from src.models.model import SignLanguageModel\n",
    "\n",
    "model = SignLanguageModel()\n",
    "model = model.load_model(\"finetuned_mobilenetv2_model.keras\")"
   ]
  },
  {
   "cell_type": "code",
   "execution_count": 4,
   "metadata": {},
   "outputs": [
    {
     "name": "stderr",
     "output_type": "stream",
     "text": [
      "d:\\Projects\\AI Tutorials\\TensorFlow\\Fine-Tuned-MobileNet-On-Sign-Language-Digits\\venv\\Lib\\site-packages\\keras-3.5.0-py3.11.egg\\keras\\src\\trainers\\data_adapters\\py_dataset_adapter.py:122: UserWarning: Your `PyDataset` class should call `super().__init__(**kwargs)` in its constructor. `**kwargs` can include `workers`, `use_multiprocessing`, `max_queue_size`. Do not pass these arguments to `fit()`, as they will be ignored.\n",
      "  self._warn_if_super_not_called()\n"
     ]
    },
    {
     "name": "stdout",
     "output_type": "stream",
     "text": [
      "\u001b[1m2/2\u001b[0m \u001b[32m━━━━━━━━━━━━━━━━━━━━\u001b[0m\u001b[37m\u001b[0m \u001b[1m3s\u001b[0m 226ms/step - accuracy: 1.0000 - loss: 5.2243e-06\n",
      "Test accuracy: 1.0\n"
     ]
    }
   ],
   "source": [
    "test_loss, test_accuracy = model.evaluate(test_data)\n",
    "print(f\"Test accuracy: {test_accuracy}\")"
   ]
  },
  {
   "cell_type": "code",
   "execution_count": 5,
   "metadata": {},
   "outputs": [
    {
     "name": "stdout",
     "output_type": "stream",
     "text": [
      "\u001b[1m1/1\u001b[0m \u001b[32m━━━━━━━━━━━━━━━━━━━━\u001b[0m\u001b[37m\u001b[0m \u001b[1m1s\u001b[0m 1s/step\n",
      "\u001b[1m1/1\u001b[0m \u001b[32m━━━━━━━━━━━━━━━━━━━━\u001b[0m\u001b[37m\u001b[0m \u001b[1m0s\u001b[0m 50ms/step\n",
      "[[1.0000000e+00 3.7385119e-11 1.3172468e-14 1.0280255e-10 9.3655032e-13\n",
      "  4.7702771e-12 5.5297634e-13 2.7833550e-11 9.3551444e-10 9.7425912e-10]]\n",
      "0\n"
     ]
    }
   ],
   "source": [
    "import numpy as np\n",
    "# Load and preprocess the image\n",
    "img_path = \"D:/Projects/AI Tutorials/TensorFlow/Fine-Tuned-MobileNet-On-Sign-Language-Digits/data/Examples/example_0.JPG\"\n",
    "\n",
    "image = processor.prepare_image_for_prediction(img_path)\n",
    "model_predictions = model.predict(image)\n",
    "Model_prediction = np.argmax(model.predict(image))\n",
    "print(model_predictions)\n",
    "print(Model_prediction)"
   ]
  },
  {
   "cell_type": "code",
   "execution_count": null,
   "metadata": {},
   "outputs": [],
   "source": []
  }
 ],
 "metadata": {
  "kernelspec": {
   "display_name": "venv",
   "language": "python",
   "name": "python3"
  },
  "language_info": {
   "codemirror_mode": {
    "name": "ipython",
    "version": 3
   },
   "file_extension": ".py",
   "mimetype": "text/x-python",
   "name": "python",
   "nbconvert_exporter": "python",
   "pygments_lexer": "ipython3",
   "version": "3.11.0"
  }
 },
 "nbformat": 4,
 "nbformat_minor": 2
}
